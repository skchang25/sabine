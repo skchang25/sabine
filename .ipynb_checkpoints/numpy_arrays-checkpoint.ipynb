{
 "cells": [
  {
   "cell_type": "code",
   "execution_count": 1,
   "id": "ccfded7d-cbbe-44cc-a13e-20316b7ff5ba",
   "metadata": {},
   "outputs": [],
   "source": [
    "import numpy as np"
   ]
  },
  {
   "cell_type": "code",
   "execution_count": 2,
   "id": "0e708830-c3c9-4c8b-af38-e5709d0cc13f",
   "metadata": {},
   "outputs": [
    {
     "name": "stdout",
     "output_type": "stream",
     "text": [
      "hello\n"
     ]
    }
   ],
   "source": [
    "print(\"hello\")"
   ]
  },
  {
   "cell_type": "code",
   "execution_count": 4,
   "id": "5c18894d-a2fb-45a7-af73-1769c5b8f3a7",
   "metadata": {},
   "outputs": [
    {
     "name": "stdout",
     "output_type": "stream",
     "text": [
      "[1, 2, 3]\n"
     ]
    }
   ],
   "source": [
    "number = [1,2,3]\n",
    "print(number)"
   ]
  },
  {
   "cell_type": "code",
   "execution_count": 6,
   "id": "34518d19-0f52-4e29-86fc-37e4236360be",
   "metadata": {},
   "outputs": [
    {
     "name": "stdout",
     "output_type": "stream",
     "text": [
      "[1, 2, 3, 1, 2, 3]\n"
     ]
    }
   ],
   "source": [
    "doubled = number*2 #error- adds the list to the end of list\n",
    "print(doubled)\n"
   ]
  },
  {
   "cell_type": "code",
   "execution_count": 7,
   "id": "3b84fe2b-8bc8-4060-928b-1641f7455e5c",
   "metadata": {},
   "outputs": [
    {
     "name": "stdout",
     "output_type": "stream",
     "text": [
      "[1 2 3]\n"
     ]
    }
   ],
   "source": [
    "arr = np.array([1,2,3])\n",
    "print(arr)"
   ]
  },
  {
   "cell_type": "code",
   "execution_count": 9,
   "id": "c60a19ac-797c-445c-8105-519260726415",
   "metadata": {},
   "outputs": [
    {
     "name": "stdout",
     "output_type": "stream",
     "text": [
      "[2 4 6]\n",
      "type[array([1, 2, 3])]\n"
     ]
    }
   ],
   "source": [
    "arr_doubled = arr *2\n",
    "print(arr_doubled)\n",
    "print(type[arr])"
   ]
  },
  {
   "cell_type": "code",
   "execution_count": 12,
   "id": "a39ee11a-1ed6-4d67-a409-b9f1bfdc5e36",
   "metadata": {},
   "outputs": [
    {
     "name": "stdout",
     "output_type": "stream",
     "text": [
      "[3, 6, 9, 12]\n",
      "[ 3  6  9 12]\n"
     ]
    }
   ],
   "source": [
    "my_list = [3,6,9,12]\n",
    "my_arr = np.array(my_list)\n",
    "print(my_list)\n",
    "print(my_arr)"
   ]
  },
  {
   "cell_type": "code",
   "execution_count": 16,
   "id": "1d7687b6-965e-4c69-a84b-d2dcbf9539ae",
   "metadata": {},
   "outputs": [
    {
     "name": "stdout",
     "output_type": "stream",
     "text": [
      "42.57142857142857\n",
      "40.0\n",
      "18.67662513760482\n",
      "348.81632653061223\n"
     ]
    }
   ],
   "source": [
    "data = [13,45,61,29,40,36,74]\n",
    "\n",
    "print(np.mean(data))\n",
    "print(np.median(data))\n",
    "print(np.std(data))\n",
    "print(np.var(data))"
   ]
  },
  {
   "cell_type": "code",
   "execution_count": 17,
   "id": "f56f9025-46d3-410e-aa40-02365ad2f4ca",
   "metadata": {},
   "outputs": [
    {
     "name": "stdout",
     "output_type": "stream",
     "text": [
      "1\n"
     ]
    }
   ],
   "source": [
    "nested = [[1,2,3],[4,5,6]]\n",
    "print(nested[0][0])"
   ]
  },
  {
   "cell_type": "code",
   "execution_count": 20,
   "id": "30419427-06a6-4ee0-899e-3b7af29f687c",
   "metadata": {},
   "outputs": [
    {
     "name": "stdout",
     "output_type": "stream",
     "text": [
      "1\n"
     ]
    }
   ],
   "source": [
    "ndarray = np.array([[1,2,3],[4,5,6]])\n",
    "print(ndarray[0,0])"
   ]
  },
  {
   "cell_type": "code",
   "execution_count": null,
   "id": "7434c2af-b2fa-44d0-a683-df0f015a554d",
   "metadata": {},
   "outputs": [],
   "source": []
  }
 ],
 "metadata": {
  "kernelspec": {
   "display_name": "Python [conda env:base] *",
   "language": "python",
   "name": "conda-base-py"
  },
  "language_info": {
   "codemirror_mode": {
    "name": "ipython",
    "version": 3
   },
   "file_extension": ".py",
   "mimetype": "text/x-python",
   "name": "python",
   "nbconvert_exporter": "python",
   "pygments_lexer": "ipython3",
   "version": "3.13.5"
  }
 },
 "nbformat": 4,
 "nbformat_minor": 5
}
