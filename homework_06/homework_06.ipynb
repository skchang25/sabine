{
 "cells": [
  {
   "cell_type": "code",
   "execution_count": 1,
   "id": "0890fe42-bb3a-4531-947b-508061a5aa3d",
   "metadata": {},
   "outputs": [],
   "source": [
    "import numpy as np"
   ]
  },
  {
   "cell_type": "code",
   "execution_count": 2,
   "id": "f0ffdbca-aa45-4f3f-a7bb-e1c364bf47b7",
   "metadata": {},
   "outputs": [],
   "source": [
    "list = [20, 27, 9, 12, 31, 17, 4, 50, 39, 35]\n",
    "\n",
    "arr = np.array(list)"
   ]
  },
  {
   "cell_type": "code",
   "execution_count": 3,
   "id": "1381d565-f0f3-4ec3-a7b9-e76ff94506f9",
   "metadata": {},
   "outputs": [
    {
     "name": "stdout",
     "output_type": "stream",
     "text": [
      "[ 80 108  36  48 124  68  16 200 156 140]\n"
     ]
    }
   ],
   "source": [
    "print(arr*4)"
   ]
  },
  {
   "cell_type": "code",
   "execution_count": 4,
   "id": "a906b4f2-ad9f-458c-a4cb-201934f082b8",
   "metadata": {},
   "outputs": [
    {
     "name": "stdout",
     "output_type": "stream",
     "text": [
      "24.4\n"
     ]
    }
   ],
   "source": [
    "print(np.mean(arr))"
   ]
  },
  {
   "cell_type": "code",
   "execution_count": 5,
   "id": "c78faa76-1ac3-4c56-9780-6816f9fba62a",
   "metadata": {},
   "outputs": [
    {
     "name": "stdout",
     "output_type": "stream",
     "text": [
      "23.5\n"
     ]
    }
   ],
   "source": [
    "print(np.median(arr))"
   ]
  },
  {
   "cell_type": "code",
   "execution_count": 6,
   "id": "a67fe6ee-998f-48c0-82d1-351591c1011b",
   "metadata": {},
   "outputs": [
    {
     "name": "stdout",
     "output_type": "stream",
     "text": [
      "13.828955130450023\n"
     ]
    }
   ],
   "source": [
    "print(np.std(arr))"
   ]
  },
  {
   "cell_type": "code",
   "execution_count": 7,
   "id": "731885c2-5cb9-47de-9e85-0b8657601b5d",
   "metadata": {},
   "outputs": [
    {
     "name": "stdout",
     "output_type": "stream",
     "text": [
      "4 , 50\n"
     ]
    }
   ],
   "source": [
    "print(arr[np.argmin(arr)], \",\" , arr[np.argmax(arr)])"
   ]
  },
  {
   "cell_type": "code",
   "execution_count": 8,
   "id": "9811dbe9-40ec-4804-b8cc-726f5dc2cf82",
   "metadata": {},
   "outputs": [
    {
     "name": "stdout",
     "output_type": "stream",
     "text": [
      "4 , 50\n"
     ]
    }
   ],
   "source": [
    "print(np.min(arr),\",\",np.max(arr))"
   ]
  },
  {
   "cell_type": "code",
   "execution_count": 9,
   "id": "003fcc0f-0bf8-4cbc-a0a8-732be07d557b",
   "metadata": {},
   "outputs": [
    {
     "name": "stdout",
     "output_type": "stream",
     "text": [
      "[27 31 50 39 35]\n"
     ]
    }
   ],
   "source": [
    "condition = arr >20\n",
    "new_arr = arr[condition]\n",
    "print(new_arr)"
   ]
  },
  {
   "cell_type": "code",
   "execution_count": 10,
   "id": "592ad4b6-d966-45f2-9546-a23636e11fdf",
   "metadata": {},
   "outputs": [],
   "source": [
    "matrix = np.array([[5, 12, 17, 9], [8, 21, 14, 3],[6, 13, 19, 11]])"
   ]
  },
  {
   "cell_type": "code",
   "execution_count": 11,
   "id": "7489e979-29b1-4193-8be7-b241a8b53eeb",
   "metadata": {},
   "outputs": [
    {
     "name": "stdout",
     "output_type": "stream",
     "text": [
      "(3, 4)\n"
     ]
    }
   ],
   "source": [
    "print(matrix.shape) # 3 rows, 4 columns"
   ]
  },
  {
   "cell_type": "code",
   "execution_count": 12,
   "id": "39bd500c-cd6d-431f-b805-0759bed4fe39",
   "metadata": {},
   "outputs": [
    {
     "name": "stdout",
     "output_type": "stream",
     "text": [
      "[ 9  3 11]\n"
     ]
    }
   ],
   "source": [
    "print(matrix[:,-1]) # 3rd column"
   ]
  },
  {
   "cell_type": "code",
   "execution_count": 13,
   "id": "c2f4caaa-f088-4734-95f1-73bcbc22e636",
   "metadata": {},
   "outputs": [
    {
     "name": "stdout",
     "output_type": "stream",
     "text": [
      "[ 8 21 14  3]\n"
     ]
    }
   ],
   "source": [
    "print(matrix[1,:]) # second row"
   ]
  },
  {
   "cell_type": "code",
   "execution_count": 14,
   "id": "46688e14-ec50-4c08-a6ba-1bc9ba6c6a15",
   "metadata": {},
   "outputs": [
    {
     "name": "stdout",
     "output_type": "stream",
     "text": [
      "[[10 24 34 18]\n",
      " [16 42 28  6]\n",
      " [12 26 38 22]]\n"
     ]
    }
   ],
   "source": [
    "print(matrix*2) # all elements in the matrix multipied by two and printed"
   ]
  },
  {
   "cell_type": "code",
   "execution_count": 15,
   "id": "31d04fd9-e3e5-4535-8cab-d816554cdf60",
   "metadata": {},
   "outputs": [
    {
     "name": "stdout",
     "output_type": "stream",
     "text": [
      "Mean for columnn 0 : 6.333333333333333\n",
      "Mean for columnn 1 : 15.333333333333334\n",
      "Mean for columnn 2 : 16.666666666666668\n",
      "Mean for columnn 3 : 7.666666666666667\n"
     ]
    }
   ],
   "source": [
    "for col in range(len(matrix[1,:])):\n",
    "    print(f\"Mean for columnn {col} : {np.mean(matrix[:,col])}\")"
   ]
  },
  {
   "cell_type": "code",
   "execution_count": 16,
   "id": "f52fac1e-79b7-4c8e-ab1a-af9def8136b9",
   "metadata": {},
   "outputs": [
    {
     "name": "stdout",
     "output_type": "stream",
     "text": [
      "11.5\n"
     ]
    }
   ],
   "source": [
    "print(np.mean(matrix)) # mean of the entire matrix"
   ]
  },
  {
   "cell_type": "code",
   "execution_count": 17,
   "id": "1f3d4af1-9f77-4a2c-8488-fa5016da191c",
   "metadata": {},
   "outputs": [
    {
     "name": "stdout",
     "output_type": "stream",
     "text": [
      "The maximum value in row 0 is 17\n",
      "The maximum value in row 1 is 21\n",
      "The maximum value in row 2 is 19\n",
      "The minimum value in col 0 is 5\n",
      "The minimum value in col 1 is 12\n",
      "The minimum value in col 2 is 14\n",
      "The minimum value in col 3 is 3\n"
     ]
    }
   ],
   "source": [
    "n=0\n",
    "for row in matrix:\n",
    "    print(f\"The maximum value in row {n} is {np.max(row)}\")\n",
    "    n += 1\n",
    "for col in range(len(matrix[1,:])):\n",
    "    print(f\"The minimum value in col {col} is {np.min(matrix[:,col])}\")"
   ]
  },
  {
   "cell_type": "code",
   "execution_count": 18,
   "id": "1e6aa2d6-9028-4f18-a13f-65b5fdba4ad3",
   "metadata": {},
   "outputs": [
    {
     "name": "stdout",
     "output_type": "stream",
     "text": [
      "original shape:(3, 4)\n",
      "new shape: (12,)\n"
     ]
    }
   ],
   "source": [
    "print(f\"original shape:{matrix.shape}\")\n",
    "new_matrix = matrix.flatten()\n",
    "print(f\"new shape: {new_matrix.shape}\")\n",
    "# The .flatten() function takes an array and creates a one-dimensional array with all of the original elements."
   ]
  },
  {
   "cell_type": "code",
   "execution_count": 19,
   "id": "e46781ed-5d38-4502-a81e-4bc64184bddb",
   "metadata": {},
   "outputs": [
    {
     "name": "stdout",
     "output_type": "stream",
     "text": [
      "[ 5 12 17  9  8 21 14  3  6 13 19 11]\n",
      "7\n",
      "5\n"
     ]
    }
   ],
   "source": [
    "print(new_matrix)\n",
    "print(np.argmin(new_matrix)) # index of smallest value (3)\n",
    "print(np.argmax(new_matrix)) # index of largest value (21)"
   ]
  },
  {
   "cell_type": "code",
   "execution_count": 20,
   "id": "9cf79c9b-c9e0-4a2b-8de4-c0ba4e9d85a3",
   "metadata": {},
   "outputs": [
    {
     "name": "stdout",
     "output_type": "stream",
     "text": [
      "12 3 4\n",
      "(np.int64(2), np.int64(3))\n"
     ]
    }
   ],
   "source": [
    "print(int(new_matrix.shape[0]), int(matrix.shape[0]),int(matrix.shape[1]))\n",
    "unraveled = np.unravel_index(int(new_matrix.shape[0])-1,matrix.shape)\n",
    "print(unraveled)"
   ]
  },
  {
   "cell_type": "code",
   "execution_count": 21,
   "id": "194bf805-6d5e-4cef-bb3e-e198f376bd6c",
   "metadata": {},
   "outputs": [
    {
     "name": "stdout",
     "output_type": "stream",
     "text": [
      "[17 21 19]\n"
     ]
    }
   ],
   "source": [
    "condition = new_matrix > 15\n",
    "matrix_greaterThan15 = new_matrix[condition]\n",
    "print(matrix_greaterThan15)"
   ]
  },
  {
   "cell_type": "code",
   "execution_count": 22,
   "id": "900d18ef-55bb-40cf-a0c1-32df3a2c9807",
   "metadata": {},
   "outputs": [
    {
     "name": "stdout",
     "output_type": "stream",
     "text": [
      "[array([ 5,  9, 12, 17]), array([ 3,  8, 14, 21]), array([ 6, 11, 13, 19])]\n"
     ]
    }
   ],
   "source": [
    "sorted_matrix = []\n",
    "for row in matrix:\n",
    "    sorted_matrix.append(np.sort(row))\n",
    "print(sorted_matrix)"
   ]
  },
  {
   "cell_type": "code",
   "execution_count": 23,
   "id": "7b225d2e-4743-4eb1-87af-2c1e2ac19203",
   "metadata": {},
   "outputs": [
    {
     "name": "stdout",
     "output_type": "stream",
     "text": [
      "[2 3 5]\n",
      "[11 13 17]\n",
      "[ 7 10 13]\n"
     ]
    }
   ],
   "source": [
    "arr = np.array([[2, 3, 5],[14, 6, 8],[11, 13, 17],[7, 10, 13]])\n",
    "for row in arr:\n",
    "    for i in row:    \n",
    "        if  (i==2 or i==3 or i ==5 or i ==7) or i%2 !=0 and i%3 != 0 and i%5 != 0 and i%7 != 0:\n",
    "            print (row)\n",
    "            break"
   ]
  },
  {
   "cell_type": "code",
   "execution_count": 24,
   "id": "234ebfd5-5281-4f5b-a629-751757df907c",
   "metadata": {},
   "outputs": [],
   "source": [
    "checkers = np.zeros((8,8))"
   ]
  },
  {
   "cell_type": "code",
   "execution_count": 25,
   "id": "2387f965-1468-42bc-97be-611df0e785cc",
   "metadata": {},
   "outputs": [
    {
     "name": "stdout",
     "output_type": "stream",
     "text": [
      "[[0. 0. 0. 0. 0. 0. 0. 0.]\n",
      " [0. 1. 0. 1. 0. 1. 0. 1.]\n",
      " [0. 0. 0. 0. 0. 0. 0. 0.]\n",
      " [0. 1. 0. 1. 0. 1. 0. 1.]\n",
      " [0. 0. 0. 0. 0. 0. 0. 0.]\n",
      " [0. 1. 0. 1. 0. 1. 0. 1.]\n",
      " [0. 0. 0. 0. 0. 0. 0. 0.]\n",
      " [0. 1. 0. 1. 0. 1. 0. 1.]]\n"
     ]
    }
   ],
   "source": [
    "for i in range(checkers.shape[0]):\n",
    "    for j in range(checkers.shape[1]):\n",
    "        if i%2 != 0 and (i+j)% 2 == 0:\n",
    "            checkers[i][j] = 1\n",
    "print(checkers)"
   ]
  },
  {
   "cell_type": "code",
   "execution_count": 26,
   "id": "81528b77-03b5-4b46-b375-8ff7afd01f0e",
   "metadata": {},
   "outputs": [
    {
     "name": "stdout",
     "output_type": "stream",
     "text": [
      "[[1. 0. 1. 0. 1. 0. 1. 0.]\n",
      " [0. 1. 0. 1. 0. 1. 0. 1.]\n",
      " [1. 0. 1. 0. 1. 0. 1. 0.]\n",
      " [0. 1. 0. 1. 0. 1. 0. 1.]\n",
      " [1. 0. 1. 0. 1. 0. 1. 0.]\n",
      " [0. 1. 0. 1. 0. 1. 0. 1.]\n",
      " [1. 0. 1. 0. 1. 0. 1. 0.]\n",
      " [0. 1. 0. 1. 0. 1. 0. 1.]]\n"
     ]
    }
   ],
   "source": [
    "for i in range(checkers.shape[0]):\n",
    "    for j in range(checkers.shape[1]):\n",
    "        if i%2 == 0 and (i+j)% 2 == 0:\n",
    "            checkers[i][j] = 1\n",
    "print(checkers)"
   ]
  },
  {
   "cell_type": "code",
   "execution_count": 27,
   "id": "afb33213-4603-4e23-8ed3-58ad1140d44c",
   "metadata": {},
   "outputs": [
    {
     "name": "stdout",
     "output_type": "stream",
     "text": [
      "[[0. 1. 0. 1. 0. 1. 0. 1.]\n",
      " [1. 0. 1. 0. 1. 0. 1. 0.]\n",
      " [0. 1. 0. 1. 0. 1. 0. 1.]\n",
      " [1. 0. 1. 0. 1. 0. 1. 0.]\n",
      " [0. 1. 0. 1. 0. 1. 0. 1.]\n",
      " [1. 0. 1. 0. 1. 0. 1. 0.]\n",
      " [0. 1. 0. 1. 0. 1. 0. 1.]\n",
      " [1. 0. 1. 0. 1. 0. 1. 0.]]\n"
     ]
    }
   ],
   "source": [
    "for i in range(checkers.shape[0]):\n",
    "    for j in range(checkers.shape[1]):\n",
    "        if (checkers[i][j] == 1):\n",
    "            checkers[i][j] = 0\n",
    "        elif (checkers[i][j] == 0):\n",
    "            checkers[i][j] =1\n",
    "print(checkers)"
   ]
  },
  {
   "cell_type": "code",
   "execution_count": 120,
   "id": "848e098e-c991-4f25-8b53-e129c8db0400",
   "metadata": {},
   "outputs": [
    {
     "name": "stdout",
     "output_type": "stream",
     "text": [
      "['g  a  l  a  x  y  ' 'c  l  u  s  t  e  r  ']\n"
     ]
    }
   ],
   "source": [
    "def expanding_universe(arr, num):\n",
    "    space = [\" \"*num]\n",
    "    final_result = np.array([])\n",
    "    output = np.array([])\n",
    "    for i in range(len(arr)):\n",
    "        for j in arr[i]:\n",
    "            output = np.append(output,j)\n",
    "            output = np.append(output,space)\n",
    "        result = \"\".join(output)\n",
    "        final_result = np.append(final_result,result)\n",
    "        output = ([])\n",
    "    print(final_result)\n",
    "universe = np.array([\"galaxy\",\"cluster\"])\n",
    "expanding_universe(universe,2)"
   ]
  },
  {
   "cell_type": "code",
   "execution_count": 168,
   "id": "6a203f5e-9b97-4f24-8366-4d500fe507ea",
   "metadata": {},
   "outputs": [
    {
     "name": "stdout",
     "output_type": "stream",
     "text": [
      "[[1889 1906 1846 1622 1541]\n",
      " [ 606 1647 1738  596  613]\n",
      " [1138  547  573 1442  724]\n",
      " [ 611 1933 1863 1346 1777]\n",
      " [ 920 1108 1732 1592  951]]\n",
      "[[1889 1906 1846 1622 1541]\n",
      " [ 606 1647 1738  596  613]\n",
      " [1138  547  573 1442  724]\n",
      " [ 611 1933 1863 1346 1777]\n",
      " [ 920 1108 1732 1592  951]]\n",
      "[1889. 1647. 1138. 1863. 1592.]\n"
     ]
    }
   ],
   "source": [
    "np.random.seed(123)\n",
    "stars = np.random.randint(500,2000,(5,5))\n",
    "print(stars)\n",
    "\n",
    "def second_brightest(arr):\n",
    "    second_brightest = np.array([])\n",
    "    compared_list = ([])\n",
    "    for row in arr:\n",
    "        compared_list = row-np.max(row)\n",
    "        for i in range(len(compared_list)):\n",
    "            if compared_list[i] == 0:\n",
    "                compared_list[i]=-2001\n",
    "        second_brightest = np.append(second_brightest,row[np.argmax(compared_list)])\n",
    "    print(second_brightest)\n",
    "second_brightest(stars)  "
   ]
  },
  {
   "cell_type": "code",
   "execution_count": null,
   "id": "3adcc67e-de30-4d14-ac62-f04c1ea35482",
   "metadata": {},
   "outputs": [],
   "source": []
  }
 ],
 "metadata": {
  "kernelspec": {
   "display_name": "Python [conda env:base] *",
   "language": "python",
   "name": "conda-base-py"
  },
  "language_info": {
   "codemirror_mode": {
    "name": "ipython",
    "version": 3
   },
   "file_extension": ".py",
   "mimetype": "text/x-python",
   "name": "python",
   "nbconvert_exporter": "python",
   "pygments_lexer": "ipython3",
   "version": "3.13.5"
  }
 },
 "nbformat": 4,
 "nbformat_minor": 5
}
