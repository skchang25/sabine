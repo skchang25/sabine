{
 "cells": [
  {
   "cell_type": "code",
   "execution_count": 1,
   "id": "0890fe42-bb3a-4531-947b-508061a5aa3d",
   "metadata": {},
   "outputs": [],
   "source": [
    "import numpy as np"
   ]
  },
  {
   "cell_type": "code",
   "execution_count": 3,
   "id": "f0ffdbca-aa45-4f3f-a7bb-e1c364bf47b7",
   "metadata": {},
   "outputs": [],
   "source": [
    "list = [20, 27, 9, 12, 31, 17, 4, 50, 39, 35]\n",
    "\n",
    "arr = np.array(list)"
   ]
  },
  {
   "cell_type": "code",
   "execution_count": 4,
   "id": "1381d565-f0f3-4ec3-a7b9-e76ff94506f9",
   "metadata": {},
   "outputs": [
    {
     "name": "stdout",
     "output_type": "stream",
     "text": [
      "[ 80 108  36  48 124  68  16 200 156 140]\n"
     ]
    }
   ],
   "source": [
    "print(arr*4)"
   ]
  },
  {
   "cell_type": "code",
   "execution_count": 6,
   "id": "a906b4f2-ad9f-458c-a4cb-201934f082b8",
   "metadata": {},
   "outputs": [
    {
     "name": "stdout",
     "output_type": "stream",
     "text": [
      "24.4\n"
     ]
    }
   ],
   "source": [
    "print(np.mean(arr))"
   ]
  },
  {
   "cell_type": "code",
   "execution_count": 7,
   "id": "c78faa76-1ac3-4c56-9780-6816f9fba62a",
   "metadata": {},
   "outputs": [
    {
     "name": "stdout",
     "output_type": "stream",
     "text": [
      "23.5\n"
     ]
    }
   ],
   "source": [
    "print(np.median(arr))"
   ]
  },
  {
   "cell_type": "code",
   "execution_count": 8,
   "id": "a67fe6ee-998f-48c0-82d1-351591c1011b",
   "metadata": {},
   "outputs": [
    {
     "name": "stdout",
     "output_type": "stream",
     "text": [
      "13.828955130450023\n"
     ]
    }
   ],
   "source": [
    "print(np.std(arr))"
   ]
  },
  {
   "cell_type": "code",
   "execution_count": 9,
   "id": "731885c2-5cb9-47de-9e85-0b8657601b5d",
   "metadata": {},
   "outputs": [
    {
     "name": "stdout",
     "output_type": "stream",
     "text": [
      "4 , 50\n"
     ]
    }
   ],
   "source": [
    "print(arr[np.argmin(arr)], \",\" , arr[np.argmax(arr)])"
   ]
  },
  {
   "cell_type": "code",
   "execution_count": 10,
   "id": "9811dbe9-40ec-4804-b8cc-726f5dc2cf82",
   "metadata": {},
   "outputs": [
    {
     "name": "stdout",
     "output_type": "stream",
     "text": [
      "4 , 50\n"
     ]
    }
   ],
   "source": [
    "print(np.min(arr),\",\",np.max(arr))"
   ]
  },
  {
   "cell_type": "code",
   "execution_count": 11,
   "id": "003fcc0f-0bf8-4cbc-a0a8-732be07d557b",
   "metadata": {},
   "outputs": [
    {
     "name": "stdout",
     "output_type": "stream",
     "text": [
      "[27. 31. 50. 39. 35.]\n"
     ]
    }
   ],
   "source": [
    "new_arr = []\n",
    "for num in arr:\n",
    "    if num > 20:\n",
    "        new_arr = np.append(new_arr,num)\n",
    "print(new_arr)"
   ]
  },
  {
   "cell_type": "code",
   "execution_count": 14,
   "id": "592ad4b6-d966-45f2-9546-a23636e11fdf",
   "metadata": {},
   "outputs": [],
   "source": [
    "matrix = np.array([[5, 12, 17, 9], [8, 21, 14, 3],[6, 13, 19, 11]])"
   ]
  },
  {
   "cell_type": "code",
   "execution_count": 16,
   "id": "7489e979-29b1-4193-8be7-b241a8b53eeb",
   "metadata": {},
   "outputs": [
    {
     "name": "stdout",
     "output_type": "stream",
     "text": [
      "(3, 4)\n"
     ]
    }
   ],
   "source": [
    "print(matrix.shape) # 3 rows, 4 columns"
   ]
  },
  {
   "cell_type": "code",
   "execution_count": null,
   "id": "39bd500c-cd6d-431f-b805-0759bed4fe39",
   "metadata": {},
   "outputs": [],
   "source": []
  }
 ],
 "metadata": {
  "kernelspec": {
   "display_name": "Python [conda env:base] *",
   "language": "python",
   "name": "conda-base-py"
  },
  "language_info": {
   "codemirror_mode": {
    "name": "ipython",
    "version": 3
   },
   "file_extension": ".py",
   "mimetype": "text/x-python",
   "name": "python",
   "nbconvert_exporter": "python",
   "pygments_lexer": "ipython3",
   "version": "3.13.5"
  }
 },
 "nbformat": 4,
 "nbformat_minor": 5
}
