import numpy as np


list = [20, 27, 9, 12, 31, 17, 4, 50, 39, 35]

arr = np.array(list)


print(arr*4)


print(np.mean(arr))


print(np.median(arr))


print(np.std(arr))


print(arr[np.argmin(arr)], "," , arr[np.argmax(arr)])


print(np.min(arr),",",np.max(arr))


new_arr = []
for num in arr:
    if num > 20:
        new_arr = np.append(new_arr,num)
print(new_arr)


matrix = np.array([[5, 12, 17, 9], [8, 21, 14, 3],[6, 13, 19, 11]])


print(np.shape(matrix)



